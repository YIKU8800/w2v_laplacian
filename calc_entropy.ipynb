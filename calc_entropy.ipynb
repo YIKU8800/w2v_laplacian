{
 "cells": [
  {
   "cell_type": "code",
   "execution_count": 1,
   "metadata": {
    "collapsed": true
   },
   "outputs": [],
   "source": [
    "from PIL import Image\n",
    "import numpy as np\n",
    "from chainer import Variable, FunctionSet, optimizers,serializers,cuda\n",
    "import chainer.functions  as F\n",
    "np.random.seed(0)\n",
    "import chainer\n",
    "import matplotlib.pyplot as plt\n",
    "import matplotlib.image as mpimg\n",
    "import math"
   ]
  },
  {
   "cell_type": "code",
   "execution_count": 2,
   "metadata": {
    "collapsed": true
   },
   "outputs": [],
   "source": [
    "def load_image(filepath):\n",
    "    x_train = [np.array(Image.open(filepath).resize((im_size,im_size)))]\n",
    "    x_train=np.array(x_train)\n",
    "    x_train=x_train.astype(np.int32)/255.0\n",
    "    x_train=np.transpose(x_train,(0,3,1,2))\n",
    "    x_train=x_train.astype(np.float32)\n",
    "    return x_train\n",
    "\n",
    "def show_img(path):\n",
    "    image = mpimg.imread(path)\n",
    "    plt.imshow(image)\n",
    "    plt.show()\n",
    "\n",
    "#test\n",
    "#data = load_image('384000/384048.jpeg')\n",
    "#print(data.shape)"
   ]
  },
  {
   "cell_type": "code",
   "execution_count": 3,
   "metadata": {
    "collapsed": true
   },
   "outputs": [],
   "source": [
    "#gls np array of ground-truth labels\n",
    "#yls np array of predict labels\n",
    "def labels_entropy(gls, yls):\n",
    "    assert(len(gls) == len(yls))\n",
    "    \n",
    "    '''\n",
    "    e = 0\n",
    "    for i in range(len(gls)):\n",
    "        c = entropy(gls[i], yls[i])\n",
    "        if(math.isnan(c)):\n",
    "            print(gls[i], yls[i])\n",
    "        e += c\n",
    "    '''\n",
    "        \n",
    "    e = np.sum(entropy(gls, yls))\n",
    "    return e\n",
    "\n",
    "#print(labels_entropy(np.array([1,1]), np.array([0.9,0.9])))"
   ]
  },
  {
   "cell_type": "code",
   "execution_count": 4,
   "metadata": {},
   "outputs": [
    {
     "name": "stdout",
     "output_type": "stream",
     "text": [
      "nan\n"
     ]
    },
    {
     "name": "stderr",
     "output_type": "stream",
     "text": [
      "/Users/serv8800/anaconda/lib/python3.6/site-packages/ipykernel_launcher.py:6: RuntimeWarning: divide by zero encountered in log\n",
      "  \n",
      "/Users/serv8800/anaconda/lib/python3.6/site-packages/ipykernel_launcher.py:6: RuntimeWarning: invalid value encountered in double_scalars\n",
      "  \n"
     ]
    }
   ],
   "source": [
    "# g:ground-truth label t (0 or 1)\n",
    "# y:predict label t (0 or 1)\n",
    "def entropy(g, y):    \n",
    "    e = -(g * np.log(y) + (1 - g) * np.log(1 - y))\n",
    "    \n",
    "    return e\n",
    "\n",
    "#print(entropy(1, 0.01))"
   ]
  },
  {
   "cell_type": "code",
   "execution_count": 5,
   "metadata": {
    "collapsed": true
   },
   "outputs": [],
   "source": [
    "def load_labels():\n",
    "    labelidx={}\n",
    "    f=open(\"corel5k_words.txt\")\n",
    "    line=f.read()\n",
    "    f.close()\n",
    "    line=line.split('\\n')\n",
    "    del line[260]\n",
    "    for i in range(len(line)):\n",
    "        labelidx[line[i]] = i\n",
    "    \n",
    "    return labelidx\n",
    "\n",
    "labelidx = load_labels()"
   ]
  },
  {
   "cell_type": "code",
   "execution_count": 6,
   "metadata": {
    "collapsed": true
   },
   "outputs": [],
   "source": [
    "def load_gt_labels():\n",
    "    gt_labels = []\n",
    "    with open(\"ground_truth_labels.txt\") as f:\n",
    "        for line in f:\n",
    "            t = line.strip('\\n')\n",
    "        \n",
    "            labels = np.zeros(260)\n",
    "            for label in (t.split('|')):\n",
    "                idx = labelidx[label]\n",
    "                labels[idx] = 1\n",
    "            \n",
    "            gt_labels.append(labels)\n",
    "    return gt_labels\n",
    "\n",
    "gt_labels = load_gt_labels()"
   ]
  },
  {
   "cell_type": "code",
   "execution_count": 7,
   "metadata": {
    "collapsed": true
   },
   "outputs": [],
   "source": [
    "im_size=127\n",
    "\n",
    "threshold = 0.2\n",
    "\n",
    "model_path = {\n",
    "        'without' : 'model/model_wd_0.001_adam_0.0001.model',\n",
    "        'word2vec' : 'model/hw2v_model_0.0000100000_1.00_1000.model', }\n",
    "\n",
    "without_model = FunctionSet(conv1=F.Convolution2D(3,  96, 11, stride=4),\n",
    "                    bn1=F.BatchNormalization(96),\n",
    "                    conv2=F.Convolution2D(96, 256,  5, pad=2),\n",
    "                    bn2=F.BatchNormalization(256),\n",
    "                    conv3=F.Convolution2D(256, 384,  3, pad=1),\n",
    "                    conv4=F.Convolution2D(384, 384,  3, pad=1),\n",
    "                    conv5=F.Convolution2D(384, 256,  3, pad=1),\n",
    "                    fc6=F.Linear(2304,1024),\n",
    "                    fc7=F.Linear(1024, 260))\n",
    "\n",
    "serializers.load_npz(model_path['without'], without_model)\n",
    "\n",
    "word2vec_model = FunctionSet(conv1=F.Convolution2D(3,  96, 11, stride=4),\n",
    "                    bn1=F.BatchNormalization(96),\n",
    "                    conv2=F.Convolution2D(96, 256,  5, pad=2),\n",
    "                    bn2=F.BatchNormalization(256),\n",
    "                    conv3=F.Convolution2D(256, 384,  3, pad=1),\n",
    "                    conv4=F.Convolution2D(384, 384,  3, pad=1),\n",
    "                    conv5=F.Convolution2D(384, 256,  3, pad=1),\n",
    "                    fc6=F.Linear(2304,1024),\n",
    "                    fc7=F.Linear(1024, 260))\n",
    "\n",
    "serializers.load_npz(model_path['word2vec'], word2vec_model)"
   ]
  },
  {
   "cell_type": "code",
   "execution_count": 8,
   "metadata": {
    "collapsed": true
   },
   "outputs": [],
   "source": [
    "def predict(model, x_data):\n",
    "    x = Variable(x_data)\n",
    "    h=F.max_pooling_2d(F.relu(F.local_response_normalization(model.conv1(x))),3,stride=2)\n",
    "    h=F.max_pooling_2d(F.relu(F.local_response_normalization(model.conv2(h))),3,stride=2)\n",
    "    h=F.relu(model.conv3(h))\n",
    "    h=F.relu(model.conv4(h))\n",
    "    h=F.max_pooling_2d(F.relu(model.conv5(h)),3,stride=2)\n",
    "    h=F.relu(model.fc6(h))\n",
    "    y = model.fc7(h)\n",
    "\n",
    "    y_f=F.sigmoid(y)\n",
    "    return y_f\n",
    "\n",
    "def predict_labels(model, image_path):\n",
    "    labels = np.zeros(260)\n",
    "    \n",
    "    xdata = load_image(image_path)\n",
    "\n",
    "    y_f = predict(model, xdata)\n",
    "\n",
    "    label_prob = y_f.data[0,:]\n",
    "\n",
    "    limit = 0\n",
    "    idxsort = label_prob.argsort()\n",
    "    for i in range(len(idxsort)):\n",
    "        i = -i - 1\n",
    "        prob = label_prob[idxsort[i]]\n",
    "        \n",
    "        idx = idxsort[i]\n",
    "        labels[idx] = prob\n",
    "          \n",
    "    return labels"
   ]
  },
  {
   "cell_type": "code",
   "execution_count": 9,
   "metadata": {
    "collapsed": true
   },
   "outputs": [],
   "source": [
    "#labels = predict_labels(word2vec_model, \"1000/1001.jpeg\")\n",
    "#e = labels_entropy(gt_labels[0], labels)\n",
    "#print(e)"
   ]
  },
  {
   "cell_type": "code",
   "execution_count": 10,
   "metadata": {
    "collapsed": true
   },
   "outputs": [],
   "source": [
    "def gen_test_co():\n",
    "    test_co = {}\n",
    "    test_idx = {}\n",
    "    idx = 0\n",
    "    with open('corel5k_test_list.txt') as f:\n",
    "        for line in f:\n",
    "            \n",
    "            test_idx[line.strip('\\n')] = idx\n",
    "            idx = idx + 1\n",
    "            \n",
    "            t = line.strip('\\n').split('/')\n",
    "            if not t[0] in test_co:\n",
    "                test_co[t[0]] = []\n",
    "            test_co[t[0]].append(t[1])\n",
    "            \n",
    "    return test_co, test_idx\n",
    "\n",
    "test_co, test_idx = gen_test_co()"
   ]
  },
  {
   "cell_type": "code",
   "execution_count": 11,
   "metadata": {
    "collapsed": true
   },
   "outputs": [],
   "source": [
    "idx = 2\n",
    "path = 'test_set/pic_%d.jpeg' % (idx + 1)\n",
    "\n",
    "labels = predict_labels(without_model, path)\n",
    "\n",
    "#print(labels)\n",
    "\n",
    "e = labels_entropy(gt_labels[idx], labels)\n",
    "\n",
    "#print(e)"
   ]
  },
  {
   "cell_type": "code",
   "execution_count": 12,
   "metadata": {
    "collapsed": true
   },
   "outputs": [],
   "source": [
    "test_co, test_idx = gen_test_co()\n",
    "\n",
    "def calc_model_entropy(model):\n",
    "    total_entropy = 0\n",
    "    for idx in range(100):\n",
    "        #print(\"gen idx:\", idx)\n",
    "\n",
    "        path = 'test_set/pic_%d.jpeg' % (idx + 1)\n",
    "\n",
    "        labels = predict_labels(model, path)\n",
    "\n",
    "        e = labels_entropy(gt_labels[idx], labels)\n",
    "        \n",
    "        #print(e)\n",
    "\n",
    "        total_entropy += e\n",
    "            \n",
    "    return total_entropy\n",
    "\n",
    "#print(calc_model_entropy(without_model))"
   ]
  },
  {
   "cell_type": "code",
   "execution_count": 13,
   "metadata": {},
   "outputs": [
    {
     "name": "stdout",
     "output_type": "stream",
     "text": [
      "3718.19528571\n",
      "3517.81525553\n"
     ]
    }
   ],
   "source": [
    "print(calc_model_entropy(without_model))\n",
    "print(calc_model_entropy(word2vec_model))"
   ]
  },
  {
   "cell_type": "code",
   "execution_count": null,
   "metadata": {
    "collapsed": true
   },
   "outputs": [],
   "source": []
  }
 ],
 "metadata": {
  "kernelspec": {
   "display_name": "Python 3",
   "language": "python",
   "name": "python3"
  },
  "language_info": {
   "codemirror_mode": {
    "name": "ipython",
    "version": 3
   },
   "file_extension": ".py",
   "mimetype": "text/x-python",
   "name": "python",
   "nbconvert_exporter": "python",
   "pygments_lexer": "ipython3",
   "version": "3.6.1"
  }
 },
 "nbformat": 4,
 "nbformat_minor": 2
}
