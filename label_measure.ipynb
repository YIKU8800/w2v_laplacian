{
 "cells": [
  {
   "cell_type": "code",
   "execution_count": 1,
   "metadata": {
    "collapsed": true
   },
   "outputs": [],
   "source": [
    "import numpy as np\n",
    "import matplotlib.pyplot as plt\n",
    "import matplotlib.image as mpimg"
   ]
  },
  {
   "cell_type": "code",
   "execution_count": 2,
   "metadata": {
    "collapsed": true
   },
   "outputs": [],
   "source": [
    "def show_img(idx): \n",
    "    image = mpimg.imread(\"test_set/%d.jpeg\" % idx)\n",
    "    plt.imshow(image)\n",
    "    plt.show()"
   ]
  },
  {
   "cell_type": "code",
   "execution_count": 3,
   "metadata": {
    "collapsed": true
   },
   "outputs": [],
   "source": [
    "# read file\n",
    "\n",
    "# ([tag1:1, tag2:1], ...)\n",
    "origin_labels = []\n",
    "without_labels = []\n",
    "word2vec_labels = []\n",
    "\n",
    "total_line = 100\n",
    "\n",
    "imgidxs = {}\n",
    "\n",
    "i = 0\n",
    "\n",
    "with open(\"label_calc.txt\") as f:\n",
    "    for line in f:\n",
    "        i += 1\n",
    "        if i > total_line:\n",
    "            break\n",
    "        \n",
    "        t = line.strip('\\n').split('\\t')\n",
    "        \n",
    "        imgidxs[i] = int(t[0])\n",
    "        \n",
    "        labels = {}\n",
    "        for label in (t[2].split('|')):\n",
    "            labels[label] = 1\n",
    "        origin_labels.append(labels)\n",
    "        #print(labels)\n",
    "        \n",
    "        \n",
    "        labels = {}\n",
    "        for label in (t[3].split('|')):\n",
    "            labels[label] = 1\n",
    "        without_labels.append(labels)\n",
    "        #print(labels)\n",
    "        \n",
    "        labels = {}\n",
    "        for label in (t[4].split('|')):\n",
    "            labels[label] = 1\n",
    "        word2vec_labels.append(labels)\n",
    "        #print(labels)"
   ]
  },
  {
   "cell_type": "code",
   "execution_count": 4,
   "metadata": {},
   "outputs": [
    {
     "name": "stdout",
     "output_type": "stream",
     "text": [
      "count2 15 count0 43\n"
     ]
    }
   ],
   "source": [
    "# compare origin without word2vec(total, right, wrong)\n",
    "count2 = 0\n",
    "count0 = 0\n",
    "for i in range(total_line):\n",
    "    word2vec_right = 0\n",
    "    word2vec_wrong = 0\n",
    "    w2vr = []\n",
    "    withoutr = []\n",
    "    orir = []\n",
    "    \n",
    "    for label in origin_labels[i]:\n",
    "        orir.append(label)\n",
    "    \n",
    "    for label in word2vec_labels[i].keys():\n",
    "        if label in origin_labels[i]:\n",
    "            w2vr.append(label)\n",
    "            word2vec_right += 1\n",
    "        else:\n",
    "            word2vec_wrong += 1\n",
    "    \n",
    "    without_right = 0\n",
    "    without_wrong = 0\n",
    "    for label in without_labels[i].keys():\n",
    "        if label in origin_labels[i]:\n",
    "            withoutr.append(label)\n",
    "            without_right += 1\n",
    "        else:\n",
    "            without_wrong += 1\n",
    "            \n",
    "    \n",
    "    word2vec_per = word2vec_right / len(origin_labels[i])\n",
    "    without_per = without_right / len(origin_labels[i])\n",
    "    \n",
    "    assert(word2vec_per <= 1.0 and without_per <= 1.0)\n",
    "            \n",
    "    result = 1\n",
    "    if word2vec_per > without_per:\n",
    "        result = 2\n",
    "        count2 += 1\n",
    "        '''\n",
    "        show_img(imgidxs[i + 1])\n",
    "        print(\"origin: \", orir)\n",
    "        print(\"w2v: \", w2vr)\n",
    "        print(\"without:\", withoutr)\n",
    "        '''\n",
    "    elif word2vec_per < without_per:\n",
    "        result = 0\n",
    "        '''\n",
    "        print(i + 1)\n",
    "        show_img(imgidxs[i + 1])\n",
    "        print(\"origin: \", orir)\n",
    "        print(\"w2v: \", w2vr)\n",
    "        print(\"without:\", withoutr)\n",
    "        '''\n",
    "        \n",
    "        count0 += 1\n",
    "    \n",
    "    \n",
    "    #print(\"word2vec:%6f without:%6f result:%d\" % (word2vec_per, without_per, result))\n",
    "    \n",
    "print(\"count2 %d count0 %d\" % (count2, count0))"
   ]
  },
  {
   "cell_type": "code",
   "execution_count": null,
   "metadata": {
    "collapsed": true
   },
   "outputs": [],
   "source": []
  }
 ],
 "metadata": {
  "kernelspec": {
   "display_name": "Python 3",
   "language": "python",
   "name": "python3"
  },
  "language_info": {
   "codemirror_mode": {
    "name": "ipython",
    "version": 3
   },
   "file_extension": ".py",
   "mimetype": "text/x-python",
   "name": "python",
   "nbconvert_exporter": "python",
   "pygments_lexer": "ipython3",
   "version": "3.6.1"
  }
 },
 "nbformat": 4,
 "nbformat_minor": 2
}
